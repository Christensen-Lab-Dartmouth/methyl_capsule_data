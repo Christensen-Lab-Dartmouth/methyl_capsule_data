{
 "cells": [
  {
   "cell_type": "code",
   "execution_count": 1,
   "metadata": {},
   "outputs": [],
   "source": [
    "# 1 go through capsules and see which ones are broken?\n",
    "# 2 update all capsules and reduce file size"
   ]
  },
  {
   "cell_type": "code",
   "execution_count": 26,
   "metadata": {},
   "outputs": [],
   "source": [
    "import pickle\n",
    "import tqdm\n",
    "import pandas as pd\n",
    "load = lambda x:pickle.load(open(x,'rb'))\n",
    "final_caps=load(\"selected_capsules.p\") # final caps is missing it, need to go back to generation of final caps"
   ]
  },
  {
   "cell_type": "code",
   "execution_count": 30,
   "metadata": {},
   "outputs": [
    {
     "name": "stderr",
     "output_type": "stream",
     "text": [
      "100%|██████████| 12/12 [00:00<00:00, 14.95it/s]\n"
     ]
    }
   ],
   "source": [
    "capsules=dict()\n",
    "capslist=final_caps.keys()\n",
    "for k1 in tqdm.tqdm(list(capslist)):#:#selected_caps_file:\n",
    "    capsules[k1]=[]\n",
    "    for k2 in final_caps[k1]:\n",
    "        for cpg in final_caps[k1][k2]:\n",
    "            capsules[k1].append((cpg,k2))"
   ]
  },
  {
   "cell_type": "code",
   "execution_count": 33,
   "metadata": {},
   "outputs": [],
   "source": [
    "for k in capsules:\n",
    "    capsules[k]=pd.DataFrame(capsules[k],columns=['cpg','feature'])"
   ]
  },
  {
   "cell_type": "code",
   "execution_count": 36,
   "metadata": {},
   "outputs": [],
   "source": [
    "for k in capsules:\n",
    "    capsules[k].to_pickle(f\"final_capsules__{k}.p\")"
   ]
  },
  {
   "cell_type": "code",
   "execution_count": 31,
   "metadata": {},
   "outputs": [
    {
     "data": {
      "text/html": [
       "<div>\n",
       "<style scoped>\n",
       "    .dataframe tbody tr th:only-of-type {\n",
       "        vertical-align: middle;\n",
       "    }\n",
       "\n",
       "    .dataframe tbody tr th {\n",
       "        vertical-align: top;\n",
       "    }\n",
       "\n",
       "    .dataframe thead th {\n",
       "        text-align: right;\n",
       "    }\n",
       "</style>\n",
       "<table border=\"1\" class=\"dataframe\">\n",
       "  <thead>\n",
       "    <tr style=\"text-align: right;\">\n",
       "      <th></th>\n",
       "      <th>cpg</th>\n",
       "      <th>feature</th>\n",
       "    </tr>\n",
       "  </thead>\n",
       "  <tbody>\n",
       "    <tr>\n",
       "      <th>0</th>\n",
       "      <td>cg14210405</td>\n",
       "      <td>chrY:9930123-9930391</td>\n",
       "    </tr>\n",
       "    <tr>\n",
       "      <th>1</th>\n",
       "      <td>cg06855731</td>\n",
       "      <td>chrY:9930123-9930391</td>\n",
       "    </tr>\n",
       "  </tbody>\n",
       "</table>\n",
       "</div>"
      ],
      "text/plain": [
       "          cpg               feature\n",
       "0  cg14210405  chrY:9930123-9930391\n",
       "1  cg06855731  chrY:9930123-9930391"
      ]
     },
     "execution_count": 31,
     "metadata": {},
     "output_type": "execute_result"
    }
   ],
   "source": [
    "# feature=\"UCSC_CpG_Islands_Name\"\n",
    "# pd.read_pickle(f\"final_capsules__{feature}.p\")#['feature'].value_counts()"
   ]
  },
  {
   "cell_type": "markdown",
   "metadata": {},
   "source": [
    "# FIXED!!\n",
    "\n",
    "DHS\n",
    "DMR\n",
    "\n",
    "# grabbing last one of these\n",
    "HMM_Island\n",
    "Phantom\n",
    "Regulatory_Feature_Group\n",
    "Regulatory_Feature_Name\n",
    "Relation_to_UCSC_CpG_Island\n",
    "UCSC_CpG_Islands_Name"
   ]
  },
  {
   "cell_type": "code",
   "execution_count": null,
   "metadata": {},
   "outputs": [],
   "source": []
  }
 ],
 "metadata": {
  "kernelspec": {
   "display_name": "Python 3",
   "language": "python",
   "name": "python3"
  },
  "language_info": {
   "codemirror_mode": {
    "name": "ipython",
    "version": 3
   },
   "file_extension": ".py",
   "mimetype": "text/x-python",
   "name": "python",
   "nbconvert_exporter": "python",
   "pygments_lexer": "ipython3",
   "version": "3.7.5"
  }
 },
 "nbformat": 4,
 "nbformat_minor": 4
}
